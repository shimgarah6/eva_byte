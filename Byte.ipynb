{
 "cells": [
  {
   "cell_type": "markdown",
   "id": "8bbd0625",
   "metadata": {},
   "source": [
    "# Evaluación de Programación - Practicante Científico de datos\n",
    "\n",
    "#### Nombre:\n",
    "Maria Bardales Velasquez\n",
    "\n",
    "#### Correo: \n",
    "bardaleshf2@gmail.com"
   ]
  },
  {
   "cell_type": "markdown",
   "id": "287985e6",
   "metadata": {},
   "source": [
    "## Librerías"
   ]
  },
  {
   "cell_type": "code",
   "execution_count": 88,
   "id": "40070c7f",
   "metadata": {},
   "outputs": [],
   "source": [
    "import string"
   ]
  },
  {
   "cell_type": "markdown",
   "id": "3c62df4d",
   "metadata": {},
   "source": [
    "## Pregunta 1"
   ]
  },
  {
   "cell_type": "code",
   "execution_count": 15,
   "id": "6c432bea",
   "metadata": {},
   "outputs": [],
   "source": [
    "def invertido(nro):\n",
    "    if nro>=0:\n",
    "        nro_inv = int(\"\".join(list(reversed(list(str(nro))))))\n",
    "    else:\n",
    "        nro_inv=\"\".join(list(reversed(list(str(nro)[1:]))))\n",
    "        nro_inv=\"-\"+nro_inv\n",
    "        nro_inv=int(nro_inv)\n",
    "    return nro_inv  "
   ]
  },
  {
   "cell_type": "code",
   "execution_count": 16,
   "id": "f539ee36",
   "metadata": {},
   "outputs": [
    {
     "data": {
      "text/plain": [
       "-53321"
      ]
     },
     "execution_count": 16,
     "metadata": {},
     "output_type": "execute_result"
    }
   ],
   "source": [
    "# Número negativo invertido\n",
    "invertido(-12335)  "
   ]
  },
  {
   "cell_type": "code",
   "execution_count": 17,
   "id": "1d50ae3d",
   "metadata": {},
   "outputs": [
    {
     "data": {
      "text/plain": [
       "53321"
      ]
     },
     "execution_count": 17,
     "metadata": {},
     "output_type": "execute_result"
    }
   ],
   "source": [
    "# Número positivo invertido\n",
    "invertido(12335)  "
   ]
  },
  {
   "cell_type": "markdown",
   "id": "c74a203e",
   "metadata": {},
   "source": [
    "## Pregunta 2"
   ]
  },
  {
   "cell_type": "code",
   "execution_count": 21,
   "id": "9a9554c9",
   "metadata": {},
   "outputs": [],
   "source": [
    "def longitud_prom(cadena):\n",
    "    cadena = cadena.translate(str.maketrans('', '', string.punctuation))\n",
    "    lista_pal = cadena.split()\n",
    "    lista_longpal=[]\n",
    "    for pal in lista_pal:\n",
    "        long_pal=len(pal)\n",
    "        lista_longpal.append(long_pal)\n",
    "    suma=0\n",
    "    for i in lista_longpal:\n",
    "        suma=suma+i\n",
    "    long_prom=suma/len(lista_pal)\n",
    "    return long_prom"
   ]
  },
  {
   "cell_type": "code",
   "execution_count": 25,
   "id": "24f9f600",
   "metadata": {},
   "outputs": [
    {
     "data": {
      "text/plain": [
       "4.4"
      ]
     },
     "execution_count": 25,
     "metadata": {},
     "output_type": "execute_result"
    }
   ],
   "source": [
    "longitud_prom(\"Hola, soy. Maria!!! Bardales? mi\")"
   ]
  },
  {
   "cell_type": "markdown",
   "id": "2d819d94",
   "metadata": {},
   "source": [
    "## Pregunta 3"
   ]
  },
  {
   "cell_type": "code",
   "execution_count": 112,
   "id": "da97a542",
   "metadata": {},
   "outputs": [],
   "source": [
    "def completar_ceros(lista_num):\n",
    "    lista_rev=list(reversed(lista_num))\n",
    "    lista_num2=[]\n",
    "    for i in range(0,len(lista_rev)):\n",
    "        ceros=\"\".join([\"0\"] * i)\n",
    "        num_n=lista_rev[i]+ceros\n",
    "        lista_num2.append(num_n)\n",
    "    return lista_num2\n",
    "\n",
    "def suma_str(num1,num2):\n",
    "    num1_l=list(num1)\n",
    "    num2_l=list(num2)\n",
    "    num1_lrev=completar_ceros(num1_l)\n",
    "    num2_lrev=completar_ceros(num2_l)\n",
    "    tam1=len(num1_lrev)\n",
    "    tam2=len(num2_lrev)\n",
    "    \n",
    "    lista_sumas=[]\n",
    "    if tam1==tam2:\n",
    "        for k in range(0,len(num1_l)):\n",
    "            lista_sumas[k]=num1_lrev[k]+\"+\"+num2_lrev[k]\n",
    "    elif tam1<tam2:\n",
    "        cant_ceros=tam2-tam1\n",
    "        ceros_l=[\"0\"] * cant_ceros\n",
    "        num1_lrev=num1_lrev+ceros_l\n",
    "        for k2 in range(0,len(num1_l)):\n",
    "            lista_sumas[k2]=num1_lrev[k2]+\"+\"+num2_lrev[k2]\n",
    "    else:\n",
    "        cant_ceros=tam1-tam2\n",
    "        ceros_l=[\"0\"] * cant_ceros\n",
    "        num2_lrev=num2_lrev+ceros_l\n",
    "        for k3 in range(0,len(num1_l)):\n",
    "            lista_sumas[k3]=num1_lrev[k3]+\"+\"+num2_lrev[k3]\n",
    "    return num1_lrev,num2_lrev,lista_sumas"
   ]
  },
  {
   "cell_type": "code",
   "execution_count": 152,
   "id": "d45e31ed",
   "metadata": {},
   "outputs": [],
   "source": [
    "def completar_ceros(lista_num):\n",
    "    lista_rev=list(reversed(lista_num))\n",
    "    lista_num2=[]\n",
    "    for i in range(0,len(lista_rev)):\n",
    "        ceros=\"\".join([\"0\"] * i)\n",
    "        num_n=lista_rev[i]+ceros\n",
    "        lista_num2.append(num_n)\n",
    "    return lista_num2\n",
    "\n",
    "def suma_str(num1,num2):\n",
    "    num1_l=list(num1)\n",
    "    num2_l=list(num2)\n",
    "    num1_lrev=completar_ceros(num1_l)\n",
    "    num2_lrev=completar_ceros(num2_l)\n",
    "    tam1=len(num1_lrev)\n",
    "    tam2=len(num2_lrev)\n",
    "    \n",
    "    lista_sumas=[]\n",
    "    if tam1==tam2:\n",
    "        for k in range(0,len(num1_l)):\n",
    "            lista_sumas.append(num1_lrev[k]+\"+\"+num2_lrev[k])\n",
    "    elif tam1<tam2:\n",
    "        cant_ceros=tam2-tam1\n",
    "        ceros_l=[\"0\"] * cant_ceros\n",
    "        num1_lrev=num1_lrev+ceros_l\n",
    "        for k in range(0,len(num1_lrev)):\n",
    "            lista_sumas.append(num1_lrev[k]+\"+\"+num2_lrev[k])\n",
    "    else:\n",
    "        cant_ceros=tam1-tam2\n",
    "        ceros_l=[\"0\"] * cant_ceros\n",
    "        num2_lrev=num2_lrev+ceros_l\n",
    "        for k in range(0,len(num2_lrev)):\n",
    "            lista_sumas.append(num1_lrev[k]+\"+\"+num2_lrev[k])\n",
    "            \n",
    "    return num1_lrev,num2_lrev,lista_sumas"
   ]
  },
  {
   "cell_type": "code",
   "execution_count": 153,
   "id": "5445e660",
   "metadata": {},
   "outputs": [
    {
     "data": {
      "text/plain": [
       "(['5', '40', '300', '0000', '20000', '100000'],\n",
       " ['5', '40', '300', '2000', '0', '0'],\n",
       " ['5+5', '40+40', '300+300', '0000+2000', '20000+0', '100000+0'])"
      ]
     },
     "execution_count": 153,
     "metadata": {},
     "output_type": "execute_result"
    }
   ],
   "source": [
    "suma_str(\"120345\",\"2345\")"
   ]
  },
  {
   "cell_type": "markdown",
   "id": "af99633a",
   "metadata": {},
   "source": [
    "## Pregunta 4"
   ]
  },
  {
   "cell_type": "code",
   "execution_count": 68,
   "id": "d76334ad",
   "metadata": {},
   "outputs": [],
   "source": [
    "def repetido(cadena):\n",
    "    lista_car=list(\"\".join(cadena.split()))\n",
    "    car_unicos=list(set(lista_car))\n",
    "    #frecuencia=[]\n",
    "    frecuencia_u=[0] * len(car_unicos)\n",
    "    #c=0\n",
    "    for i in lista_car:\n",
    "        for j in range(0,len(car_unicos)):\n",
    "            if i==car_unicos[j]:\n",
    "                frecuencia_u[j]=frecuencia_u[j]+1\n",
    "    \n",
    "    dict_unicos = dict(zip(car_unicos, frecuencia_u))\n",
    "    for k in range(0,len(lista_car)):\n",
    "        car=lista_car[k]\n",
    "        print(car)\n",
    "        print(dict_unicos[car])\n",
    "        if dict_unicos[car]>1:\n",
    "            caracter=car\n",
    "            indice=cadena.find(caracter)\n",
    "    return indice, dict_unicos"
   ]
  },
  {
   "cell_type": "code",
   "execution_count": 69,
   "id": "c288c7e0",
   "metadata": {},
   "outputs": [
    {
     "name": "stdout",
     "output_type": "stream",
     "text": [
      "c\n",
      "1\n",
      "a\n",
      "2\n",
      "d\n",
      "1\n",
      "e\n",
      "3\n",
      "n\n",
      "1\n",
      "a\n",
      "2\n",
      "e\n",
      "3\n",
      "e\n",
      "3\n"
     ]
    },
    {
     "data": {
      "text/plain": [
       "(3, {'n': 1, 'e': 3, 'a': 2, 'c': 1, 'd': 1})"
      ]
     },
     "execution_count": 69,
     "metadata": {},
     "output_type": "execute_result"
    }
   ],
   "source": [
    "repetido(\"cadena ee\")"
   ]
  },
  {
   "cell_type": "markdown",
   "id": "b9724e23",
   "metadata": {},
   "source": [
    "## Pregunta 5"
   ]
  },
  {
   "cell_type": "code",
   "execution_count": 86,
   "id": "ac887078",
   "metadata": {},
   "outputs": [],
   "source": [
    "def elimina_car_pal(cadena):\n",
    "    cadena_l=list(cadena)\n",
    "    long=int(len(cadena_l)/2)\n",
    "    cadena2=[]\n",
    "    for i in range(0,len(cadena_l)):\n",
    "        if i!=long:\n",
    "            cadena2.append(cadena_l[i])\n",
    "    return \"\".join(cadena2)"
   ]
  },
  {
   "cell_type": "code",
   "execution_count": 87,
   "id": "6719a15d",
   "metadata": {},
   "outputs": [
    {
     "data": {
      "text/plain": [
       "'radar'"
      ]
     },
     "execution_count": 87,
     "metadata": {},
     "output_type": "execute_result"
    }
   ],
   "source": [
    "elimina_car_pal(\"radkar\")"
   ]
  },
  {
   "cell_type": "markdown",
   "id": "e763a269",
   "metadata": {},
   "source": [
    "## Pregunta 6"
   ]
  },
  {
   "cell_type": "code",
   "execution_count": 97,
   "id": "b9bcd109",
   "metadata": {},
   "outputs": [
    {
     "data": {
      "text/plain": [
       "'0'"
      ]
     },
     "execution_count": 97,
     "metadata": {},
     "output_type": "execute_result"
    }
   ],
   "source": [
    "ceros=\"\".join([\"0\"] * 1)\n",
    "ceros"
   ]
  },
  {
   "cell_type": "code",
   "execution_count": 94,
   "id": "e0ec5c73",
   "metadata": {},
   "outputs": [
    {
     "data": {
      "text/plain": [
       "'000000000'"
      ]
     },
     "execution_count": 94,
     "metadata": {},
     "output_type": "execute_result"
    }
   ],
   "source": [
    "ceros"
   ]
  },
  {
   "cell_type": "code",
   "execution_count": null,
   "id": "f3f782f8",
   "metadata": {},
   "outputs": [],
   "source": []
  },
  {
   "cell_type": "code",
   "execution_count": null,
   "id": "cf413e34",
   "metadata": {},
   "outputs": [],
   "source": []
  },
  {
   "cell_type": "code",
   "execution_count": null,
   "id": "7ec9c2b5",
   "metadata": {},
   "outputs": [],
   "source": []
  }
 ],
 "metadata": {
  "kernelspec": {
   "display_name": "Python 3",
   "language": "python",
   "name": "python3"
  },
  "language_info": {
   "codemirror_mode": {
    "name": "ipython",
    "version": 3
   },
   "file_extension": ".py",
   "mimetype": "text/x-python",
   "name": "python",
   "nbconvert_exporter": "python",
   "pygments_lexer": "ipython3",
   "version": "3.6.13"
  }
 },
 "nbformat": 4,
 "nbformat_minor": 5
}
